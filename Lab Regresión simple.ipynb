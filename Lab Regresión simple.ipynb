{
 "cells": [
  {
   "cell_type": "code",
   "execution_count": 1,
   "id": "b1990e92",
   "metadata": {},
   "outputs": [],
   "source": [
    "import numpy as np\n",
    "import pandas as pd"
   ]
  },
  {
   "cell_type": "code",
   "execution_count": 23,
   "id": "0b551d10",
   "metadata": {},
   "outputs": [],
   "source": [
    "def pregunta_01():\n",
    "    \"\"\"\n",
    "    En este punto se realiza la lectura de conjuntos de datos.\n",
    "    Complete el código presentado a continuación.\n",
    "    \"\"\"\n",
    "    # Lea el archivo `gm_2008_region.csv` y asignelo al DataFrame `df`\n",
    "    df = pd.read_csv('gm_2008_region.csv')\n",
    "\n",
    "    # Asigne la columna \"life\" a `y` y la columna \"fertility\" a `X`\n",
    "    y = df['life']\n",
    "    X = df['fertility']\n",
    "\n",
    "    # Imprima las dimensiones de `y`\n",
    "    print(y.shape)\n",
    "\n",
    "    # Imprima las dimensiones de `X`\n",
    "    print(X.shape)\n",
    "\n",
    "    # Transforme `y` a un array de numpy usando reshape\n",
    "    y_reshaped = np.array(y).reshape(139,1)\n",
    "\n",
    "    # Trasforme `X` a un array de numpy usando reshape\n",
    "    X_reshaped = np.array(X).reshape(139,1)\n",
    "\n",
    "    # Imprima las nuevas dimensiones de `y`\n",
    "    print(y_reshaped.shape)\n",
    "\n",
    "    # Imprima las nuevas dimensiones de `X`\n",
    "    print(X_reshaped.shape)"
   ]
  },
  {
   "cell_type": "code",
   "execution_count": 2,
   "id": "caa51eda",
   "metadata": {},
   "outputs": [],
   "source": [
    "# Lea el archivo `gm_2008_region.csv` y asignelo al DataFrame `df`\n",
    "df = pd.read_csv('gm_2008_region.csv')"
   ]
  },
  {
   "cell_type": "code",
   "execution_count": 3,
   "id": "08c7113a",
   "metadata": {
    "scrolled": true
   },
   "outputs": [
    {
     "data": {
      "text/html": [
       "<div>\n",
       "<style scoped>\n",
       "    .dataframe tbody tr th:only-of-type {\n",
       "        vertical-align: middle;\n",
       "    }\n",
       "\n",
       "    .dataframe tbody tr th {\n",
       "        vertical-align: top;\n",
       "    }\n",
       "\n",
       "    .dataframe thead th {\n",
       "        text-align: right;\n",
       "    }\n",
       "</style>\n",
       "<table border=\"1\" class=\"dataframe\">\n",
       "  <thead>\n",
       "    <tr style=\"text-align: right;\">\n",
       "      <th></th>\n",
       "      <th>population</th>\n",
       "      <th>fertility</th>\n",
       "      <th>HIV</th>\n",
       "      <th>CO2</th>\n",
       "      <th>BMI_male</th>\n",
       "      <th>GDP</th>\n",
       "      <th>BMI_female</th>\n",
       "      <th>life</th>\n",
       "      <th>child_mortality</th>\n",
       "      <th>Region</th>\n",
       "    </tr>\n",
       "  </thead>\n",
       "  <tbody>\n",
       "    <tr>\n",
       "      <th>0</th>\n",
       "      <td>34811059.0</td>\n",
       "      <td>2.73</td>\n",
       "      <td>0.1</td>\n",
       "      <td>3.328945</td>\n",
       "      <td>24.59620</td>\n",
       "      <td>12314.0</td>\n",
       "      <td>129.9049</td>\n",
       "      <td>75.3</td>\n",
       "      <td>29.5</td>\n",
       "      <td>Middle East &amp; North Africa</td>\n",
       "    </tr>\n",
       "    <tr>\n",
       "      <th>1</th>\n",
       "      <td>19842251.0</td>\n",
       "      <td>6.43</td>\n",
       "      <td>2.0</td>\n",
       "      <td>1.474353</td>\n",
       "      <td>22.25083</td>\n",
       "      <td>7103.0</td>\n",
       "      <td>130.1247</td>\n",
       "      <td>58.3</td>\n",
       "      <td>192.0</td>\n",
       "      <td>Sub-Saharan Africa</td>\n",
       "    </tr>\n",
       "    <tr>\n",
       "      <th>2</th>\n",
       "      <td>40381860.0</td>\n",
       "      <td>2.24</td>\n",
       "      <td>0.5</td>\n",
       "      <td>4.785170</td>\n",
       "      <td>27.50170</td>\n",
       "      <td>14646.0</td>\n",
       "      <td>118.8915</td>\n",
       "      <td>75.5</td>\n",
       "      <td>15.4</td>\n",
       "      <td>America</td>\n",
       "    </tr>\n",
       "    <tr>\n",
       "      <th>3</th>\n",
       "      <td>2975029.0</td>\n",
       "      <td>1.40</td>\n",
       "      <td>0.1</td>\n",
       "      <td>1.804106</td>\n",
       "      <td>25.35542</td>\n",
       "      <td>7383.0</td>\n",
       "      <td>132.8108</td>\n",
       "      <td>72.5</td>\n",
       "      <td>20.0</td>\n",
       "      <td>Europe &amp; Central Asia</td>\n",
       "    </tr>\n",
       "    <tr>\n",
       "      <th>4</th>\n",
       "      <td>21370348.0</td>\n",
       "      <td>1.96</td>\n",
       "      <td>0.1</td>\n",
       "      <td>18.016313</td>\n",
       "      <td>27.56373</td>\n",
       "      <td>41312.0</td>\n",
       "      <td>117.3755</td>\n",
       "      <td>81.5</td>\n",
       "      <td>5.2</td>\n",
       "      <td>East Asia &amp; Pacific</td>\n",
       "    </tr>\n",
       "  </tbody>\n",
       "</table>\n",
       "</div>"
      ],
      "text/plain": [
       "   population  fertility  HIV        CO2  BMI_male      GDP  BMI_female  life  \\\n",
       "0  34811059.0       2.73  0.1   3.328945  24.59620  12314.0    129.9049  75.3   \n",
       "1  19842251.0       6.43  2.0   1.474353  22.25083   7103.0    130.1247  58.3   \n",
       "2  40381860.0       2.24  0.5   4.785170  27.50170  14646.0    118.8915  75.5   \n",
       "3   2975029.0       1.40  0.1   1.804106  25.35542   7383.0    132.8108  72.5   \n",
       "4  21370348.0       1.96  0.1  18.016313  27.56373  41312.0    117.3755  81.5   \n",
       "\n",
       "   child_mortality                      Region  \n",
       "0             29.5  Middle East & North Africa  \n",
       "1            192.0          Sub-Saharan Africa  \n",
       "2             15.4                     America  \n",
       "3             20.0       Europe & Central Asia  \n",
       "4              5.2         East Asia & Pacific  "
      ]
     },
     "execution_count": 3,
     "metadata": {},
     "output_type": "execute_result"
    }
   ],
   "source": [
    "df.head()"
   ]
  },
  {
   "cell_type": "code",
   "execution_count": 4,
   "id": "a1c6ab5e",
   "metadata": {
    "scrolled": true
   },
   "outputs": [
    {
     "data": {
      "text/plain": [
       "(139, 10)"
      ]
     },
     "execution_count": 4,
     "metadata": {},
     "output_type": "execute_result"
    }
   ],
   "source": [
    "df.shape"
   ]
  },
  {
   "cell_type": "code",
   "execution_count": 12,
   "id": "cea38a8a",
   "metadata": {},
   "outputs": [],
   "source": [
    "# Asigne la columna \"life\" a `y` y la columna \"fertility\" a `X`\n",
    "y = df['life']\n",
    "X = df['fertility']"
   ]
  },
  {
   "cell_type": "code",
   "execution_count": 6,
   "id": "178078d3",
   "metadata": {},
   "outputs": [
    {
     "data": {
      "text/plain": [
       "0    75.3\n",
       "1    58.3\n",
       "2    75.5\n",
       "3    72.5\n",
       "4    81.5\n",
       "Name: life, dtype: float64"
      ]
     },
     "execution_count": 6,
     "metadata": {},
     "output_type": "execute_result"
    }
   ],
   "source": [
    "y.head()"
   ]
  },
  {
   "cell_type": "code",
   "execution_count": 7,
   "id": "e9af5ff8",
   "metadata": {},
   "outputs": [
    {
     "data": {
      "text/plain": [
       "0    2.73\n",
       "1    6.43\n",
       "2    2.24\n",
       "3    1.40\n",
       "4    1.96\n",
       "Name: fertility, dtype: float64"
      ]
     },
     "execution_count": 7,
     "metadata": {},
     "output_type": "execute_result"
    }
   ],
   "source": [
    "X.head()"
   ]
  },
  {
   "cell_type": "code",
   "execution_count": 8,
   "id": "6ee4640e",
   "metadata": {},
   "outputs": [
    {
     "name": "stdout",
     "output_type": "stream",
     "text": [
      "(139,)\n"
     ]
    }
   ],
   "source": [
    "# Imprima las dimensiones de `y`\n",
    "print(y.shape)"
   ]
  },
  {
   "cell_type": "code",
   "execution_count": 13,
   "id": "76155e86",
   "metadata": {},
   "outputs": [
    {
     "name": "stdout",
     "output_type": "stream",
     "text": [
      "(139,)\n"
     ]
    }
   ],
   "source": [
    "# Imprima las dimensiones de `X`\n",
    "print(X.shape)"
   ]
  },
  {
   "cell_type": "code",
   "execution_count": 18,
   "id": "12539479",
   "metadata": {},
   "outputs": [],
   "source": [
    "# Transforme `y` a un array de numpy usando reshape\n",
    "y_reshaped = np.array(y).reshape(139,1)"
   ]
  },
  {
   "cell_type": "code",
   "execution_count": 24,
   "id": "54bdbaaa",
   "metadata": {},
   "outputs": [
    {
     "name": "stdout",
     "output_type": "stream",
     "text": [
      "(139, 1)\n"
     ]
    }
   ],
   "source": [
    "print(y_reshaped.shape)"
   ]
  },
  {
   "cell_type": "code",
   "execution_count": 21,
   "id": "c3dd9dee",
   "metadata": {},
   "outputs": [],
   "source": [
    "# Trasforme `X` a un array de numpy usando reshape\n",
    "X_reshaped = np.array(X).reshape(139,1)"
   ]
  },
  {
   "cell_type": "code",
   "execution_count": 22,
   "id": "a9d2c0a3",
   "metadata": {},
   "outputs": [
    {
     "name": "stdout",
     "output_type": "stream",
     "text": [
      "(139, 1)\n"
     ]
    }
   ],
   "source": [
    "print(X_reshaped.shape)"
   ]
  },
  {
   "cell_type": "code",
   "execution_count": null,
   "id": "b9c8f3c5",
   "metadata": {},
   "outputs": [],
   "source": []
  }
 ],
 "metadata": {
  "kernelspec": {
   "display_name": "Python 3 (ipykernel)",
   "language": "python",
   "name": "python3"
  },
  "language_info": {
   "codemirror_mode": {
    "name": "ipython",
    "version": 3
   },
   "file_extension": ".py",
   "mimetype": "text/x-python",
   "name": "python",
   "nbconvert_exporter": "python",
   "pygments_lexer": "ipython3",
   "version": "3.9.7"
  }
 },
 "nbformat": 4,
 "nbformat_minor": 5
}
