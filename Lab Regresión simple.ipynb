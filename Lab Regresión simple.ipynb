{
 "cells": [
  {
   "cell_type": "code",
   "execution_count": 1,
   "id": "b1990e92",
   "metadata": {},
   "outputs": [],
   "source": [
    "import numpy as np\n",
    "import pandas as pd"
   ]
  },
  {
   "cell_type": "code",
   "execution_count": 41,
   "id": "0b551d10",
   "metadata": {},
   "outputs": [],
   "source": [
    "def pregunta_01():\n",
    "    \"\"\"\n",
    "    En este punto se realiza la lectura de conjuntos de datos.\n",
    "    Complete el código presentado a continuación.\n",
    "    \"\"\"\n",
    "    # Lea el archivo `gm_2008_region.csv` y asignelo al DataFrame `df`\n",
    "    df = pd.read_csv('gm_2008_region.csv')\n",
    "\n",
    "    # Asigne la columna \"life\" a `y` y la columna \"fertility\" a `X`\n",
    "    y = df['life'].values\n",
    "    X = df['fertility'].values\n",
    "\n",
    "    # Imprima las dimensiones de `y`\n",
    "    print(y.shape)\n",
    "\n",
    "    # Imprima las dimensiones de `X`\n",
    "    print(X.shape)\n",
    "\n",
    "    # Transforme `y` a un array de numpy usando reshape\n",
    "    y_reshaped = y.reshape(len(y),1)\n",
    "\n",
    "    # Trasforme `X` a un array de numpy usando reshape\n",
    "    X_reshaped = X.reshape(len(X),1)\n",
    "\n",
    "    # Imprima las nuevas dimensiones de `y`\n",
    "    print(y_reshaped.shape)\n",
    "\n",
    "    # Imprima las nuevas dimensiones de `X`\n",
    "    print(X_reshaped.shape)"
   ]
  },
  {
   "cell_type": "code",
   "execution_count": 2,
   "id": "caa51eda",
   "metadata": {},
   "outputs": [],
   "source": [
    "# Lea el archivo `gm_2008_region.csv` y asignelo al DataFrame `df`\n",
    "df = pd.read_csv('gm_2008_region.csv')"
   ]
  },
  {
   "cell_type": "code",
   "execution_count": 3,
   "id": "08c7113a",
   "metadata": {
    "scrolled": true
   },
   "outputs": [
    {
     "data": {
      "text/html": [
       "<div>\n",
       "<style scoped>\n",
       "    .dataframe tbody tr th:only-of-type {\n",
       "        vertical-align: middle;\n",
       "    }\n",
       "\n",
       "    .dataframe tbody tr th {\n",
       "        vertical-align: top;\n",
       "    }\n",
       "\n",
       "    .dataframe thead th {\n",
       "        text-align: right;\n",
       "    }\n",
       "</style>\n",
       "<table border=\"1\" class=\"dataframe\">\n",
       "  <thead>\n",
       "    <tr style=\"text-align: right;\">\n",
       "      <th></th>\n",
       "      <th>population</th>\n",
       "      <th>fertility</th>\n",
       "      <th>HIV</th>\n",
       "      <th>CO2</th>\n",
       "      <th>BMI_male</th>\n",
       "      <th>GDP</th>\n",
       "      <th>BMI_female</th>\n",
       "      <th>life</th>\n",
       "      <th>child_mortality</th>\n",
       "      <th>Region</th>\n",
       "    </tr>\n",
       "  </thead>\n",
       "  <tbody>\n",
       "    <tr>\n",
       "      <th>0</th>\n",
       "      <td>34811059.0</td>\n",
       "      <td>2.73</td>\n",
       "      <td>0.1</td>\n",
       "      <td>3.328945</td>\n",
       "      <td>24.59620</td>\n",
       "      <td>12314.0</td>\n",
       "      <td>129.9049</td>\n",
       "      <td>75.3</td>\n",
       "      <td>29.5</td>\n",
       "      <td>Middle East &amp; North Africa</td>\n",
       "    </tr>\n",
       "    <tr>\n",
       "      <th>1</th>\n",
       "      <td>19842251.0</td>\n",
       "      <td>6.43</td>\n",
       "      <td>2.0</td>\n",
       "      <td>1.474353</td>\n",
       "      <td>22.25083</td>\n",
       "      <td>7103.0</td>\n",
       "      <td>130.1247</td>\n",
       "      <td>58.3</td>\n",
       "      <td>192.0</td>\n",
       "      <td>Sub-Saharan Africa</td>\n",
       "    </tr>\n",
       "    <tr>\n",
       "      <th>2</th>\n",
       "      <td>40381860.0</td>\n",
       "      <td>2.24</td>\n",
       "      <td>0.5</td>\n",
       "      <td>4.785170</td>\n",
       "      <td>27.50170</td>\n",
       "      <td>14646.0</td>\n",
       "      <td>118.8915</td>\n",
       "      <td>75.5</td>\n",
       "      <td>15.4</td>\n",
       "      <td>America</td>\n",
       "    </tr>\n",
       "    <tr>\n",
       "      <th>3</th>\n",
       "      <td>2975029.0</td>\n",
       "      <td>1.40</td>\n",
       "      <td>0.1</td>\n",
       "      <td>1.804106</td>\n",
       "      <td>25.35542</td>\n",
       "      <td>7383.0</td>\n",
       "      <td>132.8108</td>\n",
       "      <td>72.5</td>\n",
       "      <td>20.0</td>\n",
       "      <td>Europe &amp; Central Asia</td>\n",
       "    </tr>\n",
       "    <tr>\n",
       "      <th>4</th>\n",
       "      <td>21370348.0</td>\n",
       "      <td>1.96</td>\n",
       "      <td>0.1</td>\n",
       "      <td>18.016313</td>\n",
       "      <td>27.56373</td>\n",
       "      <td>41312.0</td>\n",
       "      <td>117.3755</td>\n",
       "      <td>81.5</td>\n",
       "      <td>5.2</td>\n",
       "      <td>East Asia &amp; Pacific</td>\n",
       "    </tr>\n",
       "  </tbody>\n",
       "</table>\n",
       "</div>"
      ],
      "text/plain": [
       "   population  fertility  HIV        CO2  BMI_male      GDP  BMI_female  life  \\\n",
       "0  34811059.0       2.73  0.1   3.328945  24.59620  12314.0    129.9049  75.3   \n",
       "1  19842251.0       6.43  2.0   1.474353  22.25083   7103.0    130.1247  58.3   \n",
       "2  40381860.0       2.24  0.5   4.785170  27.50170  14646.0    118.8915  75.5   \n",
       "3   2975029.0       1.40  0.1   1.804106  25.35542   7383.0    132.8108  72.5   \n",
       "4  21370348.0       1.96  0.1  18.016313  27.56373  41312.0    117.3755  81.5   \n",
       "\n",
       "   child_mortality                      Region  \n",
       "0             29.5  Middle East & North Africa  \n",
       "1            192.0          Sub-Saharan Africa  \n",
       "2             15.4                     America  \n",
       "3             20.0       Europe & Central Asia  \n",
       "4              5.2         East Asia & Pacific  "
      ]
     },
     "execution_count": 3,
     "metadata": {},
     "output_type": "execute_result"
    }
   ],
   "source": [
    "df.head()"
   ]
  },
  {
   "cell_type": "code",
   "execution_count": 4,
   "id": "a1c6ab5e",
   "metadata": {
    "scrolled": true
   },
   "outputs": [
    {
     "data": {
      "text/plain": [
       "(139, 10)"
      ]
     },
     "execution_count": 4,
     "metadata": {},
     "output_type": "execute_result"
    }
   ],
   "source": [
    "df.shape"
   ]
  },
  {
   "cell_type": "code",
   "execution_count": 26,
   "id": "cea38a8a",
   "metadata": {},
   "outputs": [],
   "source": [
    "# Asigne la columna \"life\" a `y` y la columna \"fertility\" a `X`\n",
    "y = df['life'].values\n",
    "X = df['fertility'].values"
   ]
  },
  {
   "cell_type": "code",
   "execution_count": 28,
   "id": "6ee4640e",
   "metadata": {},
   "outputs": [
    {
     "name": "stdout",
     "output_type": "stream",
     "text": [
      "(139,)\n"
     ]
    }
   ],
   "source": [
    "# Imprima las dimensiones de `y`\n",
    "print(y.shape)"
   ]
  },
  {
   "cell_type": "code",
   "execution_count": 29,
   "id": "76155e86",
   "metadata": {},
   "outputs": [
    {
     "name": "stdout",
     "output_type": "stream",
     "text": [
      "(139,)\n"
     ]
    }
   ],
   "source": [
    "# Imprima las dimensiones de `X`\n",
    "print(X.shape)"
   ]
  },
  {
   "cell_type": "code",
   "execution_count": 30,
   "id": "12539479",
   "metadata": {},
   "outputs": [],
   "source": [
    "# Transforme `y` a un array de numpy usando reshape\n",
    "#y_reshaped = np.array(y).reshape(139,1)"
   ]
  },
  {
   "cell_type": "code",
   "execution_count": 31,
   "id": "54bdbaaa",
   "metadata": {},
   "outputs": [],
   "source": [
    "#print(y_reshaped.shape)"
   ]
  },
  {
   "cell_type": "code",
   "execution_count": 32,
   "id": "67098c2e",
   "metadata": {},
   "outputs": [],
   "source": [
    "# Trasforme `X` a un array de numpy usando reshape\n",
    "#X_reshaped = np.array(X).reshape(139,1)"
   ]
  },
  {
   "cell_type": "code",
   "execution_count": 33,
   "id": "1fb44936",
   "metadata": {},
   "outputs": [],
   "source": [
    "#print(X_reshaped.shape)"
   ]
  },
  {
   "cell_type": "code",
   "execution_count": 37,
   "id": "d0377126",
   "metadata": {},
   "outputs": [],
   "source": [
    "y_reshaped = y.reshape(len(y),1)"
   ]
  },
  {
   "cell_type": "code",
   "execution_count": 38,
   "id": "30205296",
   "metadata": {},
   "outputs": [
    {
     "name": "stdout",
     "output_type": "stream",
     "text": [
      "(139, 1)\n"
     ]
    }
   ],
   "source": [
    "print(y_reshaped.shape)"
   ]
  },
  {
   "cell_type": "code",
   "execution_count": 39,
   "id": "e8fc15d5",
   "metadata": {},
   "outputs": [],
   "source": [
    "X_reshaped = X.reshape(len(X),1)"
   ]
  },
  {
   "cell_type": "code",
   "execution_count": 40,
   "id": "e5a7a030",
   "metadata": {},
   "outputs": [
    {
     "name": "stdout",
     "output_type": "stream",
     "text": [
      "(139, 1)\n"
     ]
    }
   ],
   "source": [
    "print(X_reshaped.shape)"
   ]
  },
  {
   "cell_type": "code",
   "execution_count": 42,
   "id": "c87edaa5",
   "metadata": {},
   "outputs": [],
   "source": [
    "def pregunta_02():\n",
    "    \"\"\"\n",
    "    En este punto se realiza la impresión de algunas estadísticas básicas\n",
    "    Complete el código presentado a continuación.\n",
    "    \"\"\"\n",
    "\n",
    "    # Lea el archivo `gm_2008_region.csv` y asignelo al DataFrame `df`\n",
    "    df = ____\n",
    "\n",
    "    # Imprima las dimensiones del DataFrame\n",
    "    print(____.____)\n",
    "\n",
    "    # Imprima la correlación entre las columnas `life` y `fertility` con 4 decimales.\n",
    "    print(____)\n",
    "\n",
    "    # Imprima la media de la columna `life` con 4 decimales.\n",
    "    print(____)\n",
    "\n",
    "    # Imprima el tipo de dato de la columna `fertility`.\n",
    "    print(____)\n",
    "\n",
    "    # Imprima la correlación entre las columnas `GDP` y `life` con 4 decimales.\n",
    "    print(____)"
   ]
  },
  {
   "cell_type": "code",
   "execution_count": 76,
   "id": "9339852a",
   "metadata": {},
   "outputs": [],
   "source": [
    "def pregunta_02():\n",
    "    \"\"\"\n",
    "    En este punto se realiza la impresión de algunas estadísticas básicas\n",
    "    Complete el código presentado a continuación.\n",
    "    \"\"\"\n",
    "\n",
    "    # Lea el archivo `gm_2008_region.csv` y asignelo al DataFrame `df`\n",
    "    df = pd.read_csv('gm_2008_region.csv')\n",
    "\n",
    "    # Imprima las dimensiones del DataFrame\n",
    "    print(df.shape)\n",
    "\n",
    "    # Imprima la correlación entre las columnas `life` y `fertility` con 4 decimales.\n",
    "    print(df['life'].corr(df['fertility']).round(4))\n",
    "\n",
    "    # Imprima la media de la columna `life` con 4 decimales.\n",
    "    print(round(df['life'].mean(),4))\n",
    "\n",
    "    # Imprima el tipo de dato de la columna `fertility`.\n",
    "    print(type(df['fertility']))\n",
    "\n",
    "    # Imprima la correlación entre las columnas `GDP` y `life` con 4 decimales.\n",
    "    print(df['GDP'].corr(df['life']).round(4))"
   ]
  },
  {
   "cell_type": "code",
   "execution_count": 45,
   "id": "8f5e2d93",
   "metadata": {},
   "outputs": [],
   "source": [
    "# Lea el archivo `gm_2008_region.csv` y asignelo al DataFrame `df`\n",
    "df = pd.read_csv('gm_2008_region.csv')"
   ]
  },
  {
   "cell_type": "code",
   "execution_count": 46,
   "id": "007a8be0",
   "metadata": {},
   "outputs": [
    {
     "name": "stdout",
     "output_type": "stream",
     "text": [
      "(139, 10)\n"
     ]
    }
   ],
   "source": [
    "# Imprima las dimensiones del DataFrame\n",
    "print(df.shape)"
   ]
  },
  {
   "cell_type": "code",
   "execution_count": 59,
   "id": "f094c829",
   "metadata": {},
   "outputs": [
    {
     "name": "stdout",
     "output_type": "stream",
     "text": [
      "-0.7869\n"
     ]
    }
   ],
   "source": [
    "# Imprima la correlación entre las columnas `life` y `fertility` con 4 decimales.\n",
    "print(df['life'].corr(df['fertility']).round(4))"
   ]
  },
  {
   "cell_type": "code",
   "execution_count": 66,
   "id": "6ce9401f",
   "metadata": {},
   "outputs": [
    {
     "name": "stdout",
     "output_type": "stream",
     "text": [
      "69.6029\n"
     ]
    }
   ],
   "source": [
    "# Imprima la media de la columna `life` con 4 decimales.\n",
    "print(round(df['life'].mean(),4))"
   ]
  },
  {
   "cell_type": "code",
   "execution_count": 74,
   "id": "89ae2b25",
   "metadata": {},
   "outputs": [
    {
     "name": "stdout",
     "output_type": "stream",
     "text": [
      "<class 'pandas.core.series.Series'>\n"
     ]
    }
   ],
   "source": [
    "# Imprima el tipo de dato de la columna `fertility`.\n",
    "print(type(df['fertility']))"
   ]
  },
  {
   "cell_type": "code",
   "execution_count": 75,
   "id": "783ac7fd",
   "metadata": {},
   "outputs": [
    {
     "name": "stdout",
     "output_type": "stream",
     "text": [
      "0.629\n"
     ]
    }
   ],
   "source": [
    "# Imprima la correlación entre las columnas `GDP` y `life` con 4 decimales.\n",
    "print(df['GDP'].corr(df['life']).round(4))"
   ]
  },
  {
   "cell_type": "code",
   "execution_count": 77,
   "id": "efe1fbf4",
   "metadata": {},
   "outputs": [],
   "source": [
    "def pregunta_03():\n",
    "    \"\"\"\n",
    "    Entrenamiento del modelo sobre todo el conjunto de datos.\n",
    "    Complete el código presentado a continuación.\n",
    "    \"\"\"\n",
    "\n",
    "    # Lea el archivo `gm_2008_region.csv` y asignelo al DataFrame `df`\n",
    "    df = ____\n",
    "\n",
    "    # Asigne a la variable los valores de la columna `fertility`\n",
    "    X_fertility = ____\n",
    "\n",
    "    # Asigne a la variable los valores de la columna `life`\n",
    "    y_life = ____\n",
    "\n",
    "    # Importe LinearRegression\n",
    "    from ____ import ____\n",
    "\n",
    "    # Cree una instancia del modelo de regresión lineal\n",
    "    reg = ____\n",
    "\n",
    "    # Cree El espacio de predicción. Esto es, use linspace para crear\n",
    "    # un vector con valores entre el máximo y el mínimo de X_fertility\n",
    "    prediction_space = ____(\n",
    "        ____,\n",
    "        ____,\n",
    "    ).reshape(____, _____)\n",
    "\n",
    "    # Entrene el modelo usando X_fertility y y_life\n",
    "    reg.fit(____, ____)\n",
    "\n",
    "    # Compute las predicciones para el espacio de predicción\n",
    "    y_pred = reg.predict(prediction_space)\n",
    "\n",
    "    # Imprima el R^2 del modelo con 4 decimales\n",
    "    print(____.score(____, ____).round(____))"
   ]
  },
  {
   "cell_type": "code",
   "execution_count": 149,
   "id": "5f758417",
   "metadata": {},
   "outputs": [],
   "source": [
    "def pregunta_03():\n",
    "    \"\"\"\n",
    "    Entrenamiento del modelo sobre todo el conjunto de datos.\n",
    "    Complete el código presentado a continuación.\n",
    "    \"\"\"\n",
    "\n",
    "    # Lea el archivo `gm_2008_region.csv` y asignelo al DataFrame `df`\n",
    "    df = pd.read_csv('gm_2008_region.csv')\n",
    "\n",
    "    # Asigne a la variable los valores de la columna `fertility`\n",
    "    X_fertility = df['fertility'].values\n",
    "\n",
    "    # Asigne a la variable los valores de la columna `life`\n",
    "    y_life = df['life'].values\n",
    "\n",
    "    # Importe LinearRegression\n",
    "    from sklearn.linear_model import LinearRegression\n",
    "\n",
    "    # Cree una instancia del modelo de regresión lineal\n",
    "    reg = LinearRegression(fit_intercept=True, normalize=False,)\n",
    "\n",
    "    # Cree El espacio de predicción. Esto es, use linspace para crear\n",
    "    # un vector con valores entre el máximo y el mínimo de X_fertility\n",
    "    prediction_space = np.linspace(X_fertility.min(), X_fertility.max()).reshape(50,1)\n",
    "\n",
    "    # Entrene el modelo usando X_fertility y y_life\n",
    "    reg.fit(X_fertility.reshape(len(X_fertility), 1), y_life.reshape(len(y_life), 1))\n",
    "\n",
    "    # Compute las predicciones para el espacio de predicción\n",
    "    y_pred = reg.predict(prediction_space)\n",
    "\n",
    "    # Imprima el R^2 del modelo con 4 decimales\n",
    "    print(reg.score(X_fertility.reshape(len(X_fertility), 1), y_life.reshape(len(y_life), 1)).round(4))"
   ]
  },
  {
   "cell_type": "code",
   "execution_count": 80,
   "id": "41302c8b",
   "metadata": {},
   "outputs": [],
   "source": [
    "# Lea el archivo `gm_2008_region.csv` y asignelo al DataFrame `df`\n",
    "df = pd.read_csv('gm_2008_region.csv')"
   ]
  },
  {
   "cell_type": "code",
   "execution_count": 81,
   "id": "f28405c1",
   "metadata": {},
   "outputs": [
    {
     "data": {
      "text/html": [
       "<div>\n",
       "<style scoped>\n",
       "    .dataframe tbody tr th:only-of-type {\n",
       "        vertical-align: middle;\n",
       "    }\n",
       "\n",
       "    .dataframe tbody tr th {\n",
       "        vertical-align: top;\n",
       "    }\n",
       "\n",
       "    .dataframe thead th {\n",
       "        text-align: right;\n",
       "    }\n",
       "</style>\n",
       "<table border=\"1\" class=\"dataframe\">\n",
       "  <thead>\n",
       "    <tr style=\"text-align: right;\">\n",
       "      <th></th>\n",
       "      <th>population</th>\n",
       "      <th>fertility</th>\n",
       "      <th>HIV</th>\n",
       "      <th>CO2</th>\n",
       "      <th>BMI_male</th>\n",
       "      <th>GDP</th>\n",
       "      <th>BMI_female</th>\n",
       "      <th>life</th>\n",
       "      <th>child_mortality</th>\n",
       "      <th>Region</th>\n",
       "    </tr>\n",
       "  </thead>\n",
       "  <tbody>\n",
       "    <tr>\n",
       "      <th>0</th>\n",
       "      <td>34811059.0</td>\n",
       "      <td>2.73</td>\n",
       "      <td>0.1</td>\n",
       "      <td>3.328945</td>\n",
       "      <td>24.59620</td>\n",
       "      <td>12314.0</td>\n",
       "      <td>129.9049</td>\n",
       "      <td>75.3</td>\n",
       "      <td>29.5</td>\n",
       "      <td>Middle East &amp; North Africa</td>\n",
       "    </tr>\n",
       "    <tr>\n",
       "      <th>1</th>\n",
       "      <td>19842251.0</td>\n",
       "      <td>6.43</td>\n",
       "      <td>2.0</td>\n",
       "      <td>1.474353</td>\n",
       "      <td>22.25083</td>\n",
       "      <td>7103.0</td>\n",
       "      <td>130.1247</td>\n",
       "      <td>58.3</td>\n",
       "      <td>192.0</td>\n",
       "      <td>Sub-Saharan Africa</td>\n",
       "    </tr>\n",
       "    <tr>\n",
       "      <th>2</th>\n",
       "      <td>40381860.0</td>\n",
       "      <td>2.24</td>\n",
       "      <td>0.5</td>\n",
       "      <td>4.785170</td>\n",
       "      <td>27.50170</td>\n",
       "      <td>14646.0</td>\n",
       "      <td>118.8915</td>\n",
       "      <td>75.5</td>\n",
       "      <td>15.4</td>\n",
       "      <td>America</td>\n",
       "    </tr>\n",
       "    <tr>\n",
       "      <th>3</th>\n",
       "      <td>2975029.0</td>\n",
       "      <td>1.40</td>\n",
       "      <td>0.1</td>\n",
       "      <td>1.804106</td>\n",
       "      <td>25.35542</td>\n",
       "      <td>7383.0</td>\n",
       "      <td>132.8108</td>\n",
       "      <td>72.5</td>\n",
       "      <td>20.0</td>\n",
       "      <td>Europe &amp; Central Asia</td>\n",
       "    </tr>\n",
       "    <tr>\n",
       "      <th>4</th>\n",
       "      <td>21370348.0</td>\n",
       "      <td>1.96</td>\n",
       "      <td>0.1</td>\n",
       "      <td>18.016313</td>\n",
       "      <td>27.56373</td>\n",
       "      <td>41312.0</td>\n",
       "      <td>117.3755</td>\n",
       "      <td>81.5</td>\n",
       "      <td>5.2</td>\n",
       "      <td>East Asia &amp; Pacific</td>\n",
       "    </tr>\n",
       "  </tbody>\n",
       "</table>\n",
       "</div>"
      ],
      "text/plain": [
       "   population  fertility  HIV        CO2  BMI_male      GDP  BMI_female  life  \\\n",
       "0  34811059.0       2.73  0.1   3.328945  24.59620  12314.0    129.9049  75.3   \n",
       "1  19842251.0       6.43  2.0   1.474353  22.25083   7103.0    130.1247  58.3   \n",
       "2  40381860.0       2.24  0.5   4.785170  27.50170  14646.0    118.8915  75.5   \n",
       "3   2975029.0       1.40  0.1   1.804106  25.35542   7383.0    132.8108  72.5   \n",
       "4  21370348.0       1.96  0.1  18.016313  27.56373  41312.0    117.3755  81.5   \n",
       "\n",
       "   child_mortality                      Region  \n",
       "0             29.5  Middle East & North Africa  \n",
       "1            192.0          Sub-Saharan Africa  \n",
       "2             15.4                     America  \n",
       "3             20.0       Europe & Central Asia  \n",
       "4              5.2         East Asia & Pacific  "
      ]
     },
     "execution_count": 81,
     "metadata": {},
     "output_type": "execute_result"
    }
   ],
   "source": [
    "df.head()"
   ]
  },
  {
   "cell_type": "code",
   "execution_count": 127,
   "id": "731f0075",
   "metadata": {},
   "outputs": [],
   "source": [
    "# Asigne a la variable los valores de la columna `fertility`\n",
    "X_fertility = df['fertility'].values"
   ]
  },
  {
   "cell_type": "code",
   "execution_count": 128,
   "id": "5701cf9d",
   "metadata": {},
   "outputs": [],
   "source": [
    "# Asigne a la variable los valores de la columna `life`\n",
    "y_life = df['life'].values"
   ]
  },
  {
   "cell_type": "code",
   "execution_count": 129,
   "id": "53ad9829",
   "metadata": {},
   "outputs": [],
   "source": [
    "# Importe LinearRegression\n",
    "from sklearn.linear_model import LinearRegression"
   ]
  },
  {
   "cell_type": "code",
   "execution_count": 130,
   "id": "cbf670bc",
   "metadata": {},
   "outputs": [],
   "source": [
    "# Cree una instancia del modelo de regresión lineal\n",
    "reg = LinearRegression(fit_intercept=True, normalize=False,)"
   ]
  },
  {
   "cell_type": "code",
   "execution_count": 142,
   "id": "14b0ae86",
   "metadata": {},
   "outputs": [],
   "source": [
    "# Cree El espacio de predicción. Esto es, use linspace para crear\n",
    "# un vector con valores entre el máximo y el mínimo de X_fertility\n",
    "prediction_space = np.linspace(X_fertility.min(), X_fertility.max()).reshape(50,1)"
   ]
  },
  {
   "cell_type": "code",
   "execution_count": 143,
   "id": "55d08f93",
   "metadata": {},
   "outputs": [
    {
     "data": {
      "text/plain": [
       "array([[1.28      ],\n",
       "       [1.40877551],\n",
       "       [1.53755102],\n",
       "       [1.66632653],\n",
       "       [1.79510204],\n",
       "       [1.92387755],\n",
       "       [2.05265306],\n",
       "       [2.18142857],\n",
       "       [2.31020408],\n",
       "       [2.43897959],\n",
       "       [2.5677551 ],\n",
       "       [2.69653061],\n",
       "       [2.82530612],\n",
       "       [2.95408163],\n",
       "       [3.08285714],\n",
       "       [3.21163265],\n",
       "       [3.34040816],\n",
       "       [3.46918367],\n",
       "       [3.59795918],\n",
       "       [3.72673469],\n",
       "       [3.8555102 ],\n",
       "       [3.98428571],\n",
       "       [4.11306122],\n",
       "       [4.24183673],\n",
       "       [4.37061224],\n",
       "       [4.49938776],\n",
       "       [4.62816327],\n",
       "       [4.75693878],\n",
       "       [4.88571429],\n",
       "       [5.0144898 ],\n",
       "       [5.14326531],\n",
       "       [5.27204082],\n",
       "       [5.40081633],\n",
       "       [5.52959184],\n",
       "       [5.65836735],\n",
       "       [5.78714286],\n",
       "       [5.91591837],\n",
       "       [6.04469388],\n",
       "       [6.17346939],\n",
       "       [6.3022449 ],\n",
       "       [6.43102041],\n",
       "       [6.55979592],\n",
       "       [6.68857143],\n",
       "       [6.81734694],\n",
       "       [6.94612245],\n",
       "       [7.07489796],\n",
       "       [7.20367347],\n",
       "       [7.33244898],\n",
       "       [7.46122449],\n",
       "       [7.59      ]])"
      ]
     },
     "execution_count": 143,
     "metadata": {},
     "output_type": "execute_result"
    }
   ],
   "source": [
    "prediction_space"
   ]
  },
  {
   "cell_type": "code",
   "execution_count": 137,
   "id": "678bdf3a",
   "metadata": {},
   "outputs": [
    {
     "name": "stderr",
     "output_type": "stream",
     "text": [
      "C:\\Users\\FERNANDO\\Anaconda3\\lib\\site-packages\\sklearn\\linear_model\\_base.py:148: FutureWarning: 'normalize' was deprecated in version 1.0 and will be removed in 1.2. Please leave the normalize parameter to its default value to silence this warning. The default behavior of this estimator is to not do any normalization. If normalization is needed please use sklearn.preprocessing.StandardScaler instead.\n",
      "  warnings.warn(\n"
     ]
    },
    {
     "data": {
      "text/plain": [
       "LinearRegression(normalize=False)"
      ]
     },
     "execution_count": 137,
     "metadata": {},
     "output_type": "execute_result"
    }
   ],
   "source": [
    "# Entrene el modelo usando X_fertility y y_life\n",
    "reg.fit(X_fertility.reshape(len(X_fertility), 1), y_life.reshape(len(y_life), 1))"
   ]
  },
  {
   "cell_type": "code",
   "execution_count": 144,
   "id": "198e914e",
   "metadata": {},
   "outputs": [],
   "source": [
    "# Compute las predicciones para el espacio de predicción\n",
    "y_pred = reg.predict(prediction_space)"
   ]
  },
  {
   "cell_type": "code",
   "execution_count": 153,
   "id": "03c0ba7f",
   "metadata": {},
   "outputs": [
    {
     "name": "stdout",
     "output_type": "stream",
     "text": [
      "0.6192\n"
     ]
    }
   ],
   "source": [
    "# Imprima el R^2 del modelo con 4 decimales y_pred\n",
    "print(reg.score(X_fertility.reshape(len(X_fertility), 1), y_life.reshape(len(y_life), 1)).round(4))"
   ]
  },
  {
   "cell_type": "code",
   "execution_count": 154,
   "id": "e3b0ec3b",
   "metadata": {},
   "outputs": [],
   "source": [
    "def pregunta_04():\n",
    "    \"\"\"\n",
    "    Particionamiento del conjunto de datos usando train_test_split.\n",
    "    Complete el código presentado a continuación.\n",
    "    \"\"\"\n",
    "\n",
    "    # Importe LinearRegression\n",
    "    # Importe train_test_split\n",
    "    # Importe mean_squared_error\n",
    "    from ____ import ____\n",
    "\n",
    "    # Lea el archivo `gm_2008_region.csv` y asignelo al DataFrame `df`\n",
    "    df = ____\n",
    "\n",
    "    # Asigne a la variable los valores de la columna `fertility`\n",
    "    X_fertility = ____\n",
    "\n",
    "    # Asigne a la variable los valores de la columna `life`\n",
    "    y_life = ____\n",
    "\n",
    "    # Divida los datos de entrenamiento y prueba. La semilla del generador de números\n",
    "    # aleatorios es 53. El tamaño de la muestra de entrenamiento es del 80%\n",
    "    (X_train, X_test, y_train, y_test,) = ____(\n",
    "        ____,\n",
    "        ____,\n",
    "        test_size=____,\n",
    "        random_state=____,\n",
    "    )\n",
    "\n",
    "    # Cree una instancia del modelo de regresión lineal\n",
    "    linearRegression = ____\n",
    "\n",
    "    # Entrene el clasificador usando X_train y y_train\n",
    "    ____.fit(____, ____)\n",
    "\n",
    "    # Pronostique y_test usando X_test\n",
    "    y_pred = ____\n",
    "\n",
    "    # Compute and print R^2 and RMSE\n",
    "    print(\"R^2: {:6.4f}\".format(linearRegression.score(X_test, y_test)))\n",
    "    rmse = np.sqrt(____(____, ____))\n",
    "    print(\"Root Mean Squared Error: {:6.4f}\".format(rmse))"
   ]
  },
  {
   "cell_type": "code",
   "execution_count": 234,
   "id": "b2a5c828",
   "metadata": {},
   "outputs": [],
   "source": [
    "def pregunta_04():\n",
    "    \"\"\"\n",
    "    Particionamiento del conjunto de datos usando train_test_split.\n",
    "    Complete el código presentado a continuación.\n",
    "    \"\"\"\n",
    "\n",
    "    # Importe LinearRegression\n",
    "    # Importe train_test_split\n",
    "    # Importe mean_squared_error\n",
    "    from sklearn.linear_model import LinearRegression\n",
    "    from sklearn.model_selection import train_test_split\n",
    "    from sklearn.metrics import mean_squared_error, r2_score\n",
    "\n",
    "    # Lea el archivo `gm_2008_region.csv` y asignelo al DataFrame `df`\n",
    "    df = pd.read_csv('gm_2008_region.csv')\n",
    "\n",
    "    # Asigne a la variable los valores de la columna `fertility`\n",
    "    X_fertility = df['fertility'].values\n",
    "\n",
    "    # Asigne a la variable los valores de la columna `life`\n",
    "    y_life = df['life'].values\n",
    "\n",
    "    # Divida los datos de entrenamiento y prueba. La semilla del generador de números\n",
    "    # aleatorios es 53. El tamaño de la muestra de entrenamiento es del 80%\n",
    "    (X_train, X_test, y_train, y_test,) = train_test_split(\n",
    "            X_fertility,\n",
    "            y_life,\n",
    "            test_size= round(0.8*len(X_fertility)),\n",
    "            random_state= 53,\n",
    "        )\n",
    "\n",
    "    # Cree una instancia del modelo de regresión lineal\n",
    "    linearRegression = LinearRegression(fit_intercept=True, normalize=False,)\n",
    "\n",
    "    # Entrene el clasificador usando X_train y y_train\n",
    "    linearRegression.fit(X_train.reshape(len(X_train),1), y_train.reshape(len(y_train),1))\n",
    "\n",
    "    # Pronostique y_test usando X_test\n",
    "    y_pred = ____\n",
    "\n",
    "    # Compute and print R^2 and RMSE\n",
    "    print(\"R^2: {:6.4f}\".format(linearRegression.score(X_test, y_test)))\n",
    "    rmse = np.sqrt(____(____, ____))\n",
    "    print(\"Root Mean Squared Error: {:6.4f}\".format(rmse))"
   ]
  },
  {
   "cell_type": "code",
   "execution_count": 277,
   "id": "e4756530",
   "metadata": {},
   "outputs": [],
   "source": [
    "# Importe LinearRegression\n",
    "# Importe train_test_split\n",
    "# Importe mean_squared_error\n",
    "from sklearn.linear_model import LinearRegression\n",
    "from sklearn.model_selection import train_test_split\n",
    "from sklearn.metrics import mean_squared_error, r2_score"
   ]
  },
  {
   "cell_type": "code",
   "execution_count": 302,
   "id": "03504e14",
   "metadata": {},
   "outputs": [],
   "source": [
    "# Lea el archivo `gm_2008_region.csv` y asignelo al DataFrame `df`\n",
    "df = pd.read_csv('gm_2008_region.csv')"
   ]
  },
  {
   "cell_type": "code",
   "execution_count": 303,
   "id": "509a207f",
   "metadata": {},
   "outputs": [
    {
     "data": {
      "text/html": [
       "<div>\n",
       "<style scoped>\n",
       "    .dataframe tbody tr th:only-of-type {\n",
       "        vertical-align: middle;\n",
       "    }\n",
       "\n",
       "    .dataframe tbody tr th {\n",
       "        vertical-align: top;\n",
       "    }\n",
       "\n",
       "    .dataframe thead th {\n",
       "        text-align: right;\n",
       "    }\n",
       "</style>\n",
       "<table border=\"1\" class=\"dataframe\">\n",
       "  <thead>\n",
       "    <tr style=\"text-align: right;\">\n",
       "      <th></th>\n",
       "      <th>population</th>\n",
       "      <th>fertility</th>\n",
       "      <th>HIV</th>\n",
       "      <th>CO2</th>\n",
       "      <th>BMI_male</th>\n",
       "      <th>GDP</th>\n",
       "      <th>BMI_female</th>\n",
       "      <th>life</th>\n",
       "      <th>child_mortality</th>\n",
       "      <th>Region</th>\n",
       "    </tr>\n",
       "  </thead>\n",
       "  <tbody>\n",
       "    <tr>\n",
       "      <th>0</th>\n",
       "      <td>34811059.0</td>\n",
       "      <td>2.73</td>\n",
       "      <td>0.1</td>\n",
       "      <td>3.328945</td>\n",
       "      <td>24.59620</td>\n",
       "      <td>12314.0</td>\n",
       "      <td>129.9049</td>\n",
       "      <td>75.3</td>\n",
       "      <td>29.5</td>\n",
       "      <td>Middle East &amp; North Africa</td>\n",
       "    </tr>\n",
       "    <tr>\n",
       "      <th>1</th>\n",
       "      <td>19842251.0</td>\n",
       "      <td>6.43</td>\n",
       "      <td>2.0</td>\n",
       "      <td>1.474353</td>\n",
       "      <td>22.25083</td>\n",
       "      <td>7103.0</td>\n",
       "      <td>130.1247</td>\n",
       "      <td>58.3</td>\n",
       "      <td>192.0</td>\n",
       "      <td>Sub-Saharan Africa</td>\n",
       "    </tr>\n",
       "    <tr>\n",
       "      <th>2</th>\n",
       "      <td>40381860.0</td>\n",
       "      <td>2.24</td>\n",
       "      <td>0.5</td>\n",
       "      <td>4.785170</td>\n",
       "      <td>27.50170</td>\n",
       "      <td>14646.0</td>\n",
       "      <td>118.8915</td>\n",
       "      <td>75.5</td>\n",
       "      <td>15.4</td>\n",
       "      <td>America</td>\n",
       "    </tr>\n",
       "    <tr>\n",
       "      <th>3</th>\n",
       "      <td>2975029.0</td>\n",
       "      <td>1.40</td>\n",
       "      <td>0.1</td>\n",
       "      <td>1.804106</td>\n",
       "      <td>25.35542</td>\n",
       "      <td>7383.0</td>\n",
       "      <td>132.8108</td>\n",
       "      <td>72.5</td>\n",
       "      <td>20.0</td>\n",
       "      <td>Europe &amp; Central Asia</td>\n",
       "    </tr>\n",
       "    <tr>\n",
       "      <th>4</th>\n",
       "      <td>21370348.0</td>\n",
       "      <td>1.96</td>\n",
       "      <td>0.1</td>\n",
       "      <td>18.016313</td>\n",
       "      <td>27.56373</td>\n",
       "      <td>41312.0</td>\n",
       "      <td>117.3755</td>\n",
       "      <td>81.5</td>\n",
       "      <td>5.2</td>\n",
       "      <td>East Asia &amp; Pacific</td>\n",
       "    </tr>\n",
       "  </tbody>\n",
       "</table>\n",
       "</div>"
      ],
      "text/plain": [
       "   population  fertility  HIV        CO2  BMI_male      GDP  BMI_female  life  \\\n",
       "0  34811059.0       2.73  0.1   3.328945  24.59620  12314.0    129.9049  75.3   \n",
       "1  19842251.0       6.43  2.0   1.474353  22.25083   7103.0    130.1247  58.3   \n",
       "2  40381860.0       2.24  0.5   4.785170  27.50170  14646.0    118.8915  75.5   \n",
       "3   2975029.0       1.40  0.1   1.804106  25.35542   7383.0    132.8108  72.5   \n",
       "4  21370348.0       1.96  0.1  18.016313  27.56373  41312.0    117.3755  81.5   \n",
       "\n",
       "   child_mortality                      Region  \n",
       "0             29.5  Middle East & North Africa  \n",
       "1            192.0          Sub-Saharan Africa  \n",
       "2             15.4                     America  \n",
       "3             20.0       Europe & Central Asia  \n",
       "4              5.2         East Asia & Pacific  "
      ]
     },
     "execution_count": 303,
     "metadata": {},
     "output_type": "execute_result"
    }
   ],
   "source": [
    "df.head()"
   ]
  },
  {
   "cell_type": "code",
   "execution_count": 304,
   "id": "ed541e50",
   "metadata": {},
   "outputs": [],
   "source": [
    "# Asigne a la variable los valores de la columna `fertility`\n",
    "X_fertility = df['fertility'].values\n",
    "\n",
    "# Asigne a la variable los valores de la columna `life`\n",
    "y_life = df['life'].values"
   ]
  },
  {
   "cell_type": "code",
   "execution_count": 305,
   "id": "7b04ed3b",
   "metadata": {},
   "outputs": [],
   "source": [
    "#X_fertility.reshape(len(X_fertility),1)\n",
    "#y_life.reshape(len(y_life),1)"
   ]
  },
  {
   "cell_type": "code",
   "execution_count": 306,
   "id": "abde7f77",
   "metadata": {},
   "outputs": [],
   "source": [
    "# Divida los datos de entrenamiento y prueba. La semilla del generador de números\n",
    "# aleatorios es 53. El tamaño de la muestra de entrenamiento es del 80%\n",
    "(X_train, X_test, y_train, y_test,) = train_test_split(\n",
    "        X_fertility,\n",
    "        y_life,\n",
    "        test_size= round(0.8*len(X_fertility)),\n",
    "        random_state= 53,\n",
    "    )"
   ]
  },
  {
   "cell_type": "code",
   "execution_count": 298,
   "id": "bd307871",
   "metadata": {},
   "outputs": [],
   "source": [
    "# Cree una instancia del modelo de regresión lineal\n",
    "linearRegression = LinearRegression(fit_intercept=True, normalize=False,)"
   ]
  },
  {
   "cell_type": "code",
   "execution_count": 299,
   "id": "be023772",
   "metadata": {},
   "outputs": [
    {
     "name": "stderr",
     "output_type": "stream",
     "text": [
      "C:\\Users\\FERNANDO\\Anaconda3\\lib\\site-packages\\sklearn\\linear_model\\_base.py:148: FutureWarning: 'normalize' was deprecated in version 1.0 and will be removed in 1.2. Please leave the normalize parameter to its default value to silence this warning. The default behavior of this estimator is to not do any normalization. If normalization is needed please use sklearn.preprocessing.StandardScaler instead.\n",
      "  warnings.warn(\n"
     ]
    },
    {
     "data": {
      "text/plain": [
       "LinearRegression(normalize=False)"
      ]
     },
     "execution_count": 299,
     "metadata": {},
     "output_type": "execute_result"
    }
   ],
   "source": [
    "# Entrene el clasificador usando X_train y y_train\n",
    "linearRegression.fit(X_train.reshape(len(X_train),1), y_train.reshape(len(y_train),1))"
   ]
  },
  {
   "cell_type": "code",
   "execution_count": 300,
   "id": "5da1c791",
   "metadata": {},
   "outputs": [],
   "source": [
    "# Pronostique y_test usando X_test\n",
    "y_pred = linearRegression.predict(X_test.reshape(len(X_test),1))"
   ]
  },
  {
   "cell_type": "code",
   "execution_count": 301,
   "id": "1e3a89e4",
   "metadata": {},
   "outputs": [
    {
     "name": "stdout",
     "output_type": "stream",
     "text": [
      "R^2: 0.6055\n"
     ]
    }
   ],
   "source": [
    "# Compute and print R^2 and RMSE\n",
    "print(\"R^2: {:6.4f}\".format(linearRegression.score(X_test.reshape(len(X_test),1), y_test.reshape(len(y_test),1))))\n",
    "#rmse = np.sqrt(____(____, ____))\n",
    "#rmse = np.sqrt(np.mean((y_pred.reshape(len(y_pred),1) - y_test.reshape(len(y_test),1))**2))\n",
    "#print(\"Root Mean Squared Error: {:6.4f}\".format(rmse))"
   ]
  },
  {
   "cell_type": "code",
   "execution_count": null,
   "id": "c17e44ee",
   "metadata": {},
   "outputs": [],
   "source": []
  }
 ],
 "metadata": {
  "kernelspec": {
   "display_name": "Python 3 (ipykernel)",
   "language": "python",
   "name": "python3"
  },
  "language_info": {
   "codemirror_mode": {
    "name": "ipython",
    "version": 3
   },
   "file_extension": ".py",
   "mimetype": "text/x-python",
   "name": "python",
   "nbconvert_exporter": "python",
   "pygments_lexer": "ipython3",
   "version": "3.9.7"
  }
 },
 "nbformat": 4,
 "nbformat_minor": 5
}
